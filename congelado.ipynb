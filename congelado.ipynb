{
  "nbformat": 4,
  "nbformat_minor": 0,
  "metadata": {
    "colab": {
      "provenance": [],
      "authorship_tag": "ABX9TyOAyKGmfTuqkWDN99y0gq8S",
      "include_colab_link": true
    },
    "kernelspec": {
      "name": "python3",
      "display_name": "Python 3"
    },
    "language_info": {
      "name": "python"
    }
  },
  "cells": [
    {
      "cell_type": "markdown",
      "metadata": {
        "id": "view-in-github",
        "colab_type": "text"
      },
      "source": [
        "<a href=\"https://colab.research.google.com/github/JRMJ14/datasets-de-practica/blob/main/congelado.ipynb\" target=\"_parent\"><img src=\"https://colab.research.google.com/assets/colab-badge.svg\" alt=\"Open In Colab\"/></a>"
      ]
    },
    {
      "cell_type": "code",
      "execution_count": null,
      "metadata": {
        "colab": {
          "base_uri": "https://localhost:8080/"
        },
        "id": "acz0Z39HoANY",
        "outputId": "92904b62-ba6e-4a6f-9ebc-bfff8e400413"
      },
      "outputs": [
        {
          "output_type": "stream",
          "name": "stdout",
          "text": [
            "Collecting gymnasium\n",
            "  Downloading gymnasium-1.0.0-py3-none-any.whl.metadata (9.5 kB)\n",
            "Requirement already satisfied: numpy>=1.21.0 in /usr/local/lib/python3.10/dist-packages (from gymnasium) (1.26.4)\n",
            "Requirement already satisfied: cloudpickle>=1.2.0 in /usr/local/lib/python3.10/dist-packages (from gymnasium) (3.1.0)\n",
            "Requirement already satisfied: typing-extensions>=4.3.0 in /usr/local/lib/python3.10/dist-packages (from gymnasium) (4.12.2)\n",
            "Collecting farama-notifications>=0.0.1 (from gymnasium)\n",
            "  Downloading Farama_Notifications-0.0.4-py3-none-any.whl.metadata (558 bytes)\n",
            "Downloading gymnasium-1.0.0-py3-none-any.whl (958 kB)\n",
            "\u001b[2K   \u001b[90m━━━━━━━━━━━━━━━━━━━━━━━━━━━━━━━━━━━━━━━━\u001b[0m \u001b[32m958.1/958.1 kB\u001b[0m \u001b[31m9.7 MB/s\u001b[0m eta \u001b[36m0:00:00\u001b[0m\n",
            "\u001b[?25hDownloading Farama_Notifications-0.0.4-py3-none-any.whl (2.5 kB)\n",
            "Installing collected packages: farama-notifications, gymnasium\n",
            "Successfully installed farama-notifications-0.0.4 gymnasium-1.0.0\n"
          ]
        }
      ],
      "source": [
        "!pip install gymnasium"
      ]
    },
    {
      "cell_type": "code",
      "source": [
        "import gymnasium as gym\n",
        "import numpy as np\n",
        "import random\n",
        "import matplotlib.pyplot as plt\n",
        "\n",
        "# Configuración del entorno\n",
        "#env = gym.make(\"FrozenLake-v1\", render_mode=\"ansi\")\n",
        "env = gym.make(\"FrozenLake-v1\", is_slippery=False)\n",
        "\n",
        "# Inicialización de la tabla Q\n",
        "q_table = np.zeros([env.observation_space.n, env.action_space.n])\n",
        "\n",
        "# Parámetros de Q-learning\n",
        "alpha = 0.1       # Tasa de aprendizaje\n",
        "gamma = 0.99      # Factor de descuento\n",
        "epsilon = 1.0     # Tasa de exploración inicial\n",
        "epsilon_min = 0.01\n",
        "epsilon_decay = 0.995\n",
        "episodes = 1000\n",
        "\n",
        "# Lista para registrar las recompensas por episodio\n",
        "all_rewards = []\n",
        "\n",
        "# Entrenamiento del agente\n",
        "for episode in range(episodes):\n",
        "    state, _ = env.reset()  # Reiniciar entorno al inicio de cada episodio\n",
        "    total_rewards = 0\n",
        "    done = False\n",
        "\n",
        "    while not done:\n",
        "        # Selección de acción: exploración vs explotación\n",
        "        if random.uniform(0, 1) < epsilon:\n",
        "            action = env.action_space.sample()  # Exploración\n",
        "        else:\n",
        "            action = np.argmax(q_table[state])  # Explotación\n",
        "\n",
        "        # Tomar acción y observar el resultado\n",
        "        next_state, reward, done, _, _ = env.step(action)\n",
        "\n",
        "        # Actualización de la tabla Q\n",
        "        old_value = q_table[state, action]\n",
        "        next_max = np.max(q_table[next_state])\n",
        "\n",
        "        # Fórmula de actualización de Q-learning\n",
        "        q_table[state, action] = old_value + alpha * (reward + gamma * next_max - old_value)\n",
        "\n",
        "        # Actualización del estado\n",
        "        state = next_state\n",
        "        total_rewards += reward\n",
        "\n",
        "    # Reducir epsilon para disminuir la exploración a medida que aprende\n",
        "    epsilon = max(epsilon_min, epsilon * epsilon_decay)\n",
        "\n",
        "    # Almacenar las recompensas obtenidas en cada episodio\n",
        "    all_rewards.append(total_rewards)\n",
        "\n",
        "# Imprimir la tabla Q entrenada\n",
        "print(\"Tabla Q entrenada:\")\n",
        "print(q_table)"
      ],
      "metadata": {
        "colab": {
          "base_uri": "https://localhost:8080/"
        },
        "id": "qDFQHRtPrDeA",
        "outputId": "f82fcb9b-4b72-4bb6-eb5b-f7cfa1cd8431"
      },
      "execution_count": null,
      "outputs": [
        {
          "output_type": "stream",
          "name": "stdout",
          "text": [
            "Tabla Q entrenada:\n",
            "[[8.08984219e-01 9.50990050e-01 6.13932138e-01 8.58534969e-01]\n",
            " [8.38285230e-01 0.00000000e+00 9.47939835e-07 6.50371656e-02]\n",
            " [5.73717122e-04 0.00000000e+00 0.00000000e+00 0.00000000e+00]\n",
            " [0.00000000e+00 0.00000000e+00 0.00000000e+00 0.00000000e+00]\n",
            " [9.12411733e-01 9.60596010e-01 0.00000000e+00 8.42677965e-01]\n",
            " [0.00000000e+00 0.00000000e+00 0.00000000e+00 0.00000000e+00]\n",
            " [0.00000000e+00 0.00000000e+00 0.00000000e+00 0.00000000e+00]\n",
            " [0.00000000e+00 0.00000000e+00 0.00000000e+00 0.00000000e+00]\n",
            " [9.31672310e-01 0.00000000e+00 9.70299000e-01 8.73105565e-01]\n",
            " [8.41316919e-01 9.80100000e-01 8.26079782e-01 0.00000000e+00]\n",
            " [1.79050618e-01 9.77031338e-01 0.00000000e+00 0.00000000e+00]\n",
            " [0.00000000e+00 0.00000000e+00 0.00000000e+00 0.00000000e+00]\n",
            " [0.00000000e+00 0.00000000e+00 0.00000000e+00 0.00000000e+00]\n",
            " [0.00000000e+00 9.17100849e-01 9.90000000e-01 8.81272574e-01]\n",
            " [8.65117328e-01 8.56171199e-01 1.00000000e+00 7.55523885e-01]\n",
            " [0.00000000e+00 0.00000000e+00 0.00000000e+00 0.00000000e+00]]\n"
          ]
        }
      ]
    },
    {
      "cell_type": "code",
      "source": [
        "# Evaluación del agente en modo de explotación (epsilon = 0)\n",
        "test_episodes = 100\n",
        "total_test_rewards = 50\n",
        "\n",
        "for episode in range(test_episodes):\n",
        "    state, _ = env.reset()\n",
        "    done = False\n",
        "    while not done:\n",
        "        action = np.argmax(q_table[state])  # Elegir la mejor acción\n",
        "        next_state, reward, done, _, _ = env.step(action)\n",
        "        total_test_rewards += reward\n",
        "        state = next_state\n",
        "\n",
        "print(f\"Recompensa media en evaluación: {total_test_rewards / test_episodes}\")"
      ],
      "metadata": {
        "colab": {
          "base_uri": "https://localhost:8080/"
        },
        "id": "AKqTyr_erLlf",
        "outputId": "4614b385-6fb0-451b-d489-961b3bc1a553"
      },
      "execution_count": null,
      "outputs": [
        {
          "output_type": "stream",
          "name": "stdout",
          "text": [
            "Recompensa media en evaluación: 1.5\n"
          ]
        }
      ]
    },
    {
      "cell_type": "code",
      "source": [
        "plt.plot(all_rewards)\n",
        "plt.xlabel(\"Episodios\")\n",
        "plt.ylabel(\"Recompensa\")\n",
        "plt.title(\"Progreso del entrenamiento\")\n",
        "plt.show()"
      ],
      "metadata": {
        "colab": {
          "base_uri": "https://localhost:8080/",
          "height": 472
        },
        "id": "CR1I1nynrY1j",
        "outputId": "02f169c4-71fd-4311-8f0d-5132cfc83f60"
      },
      "execution_count": null,
      "outputs": [
        {
          "output_type": "display_data",
          "data": {
            "text/plain": [
              "<Figure size 640x480 with 1 Axes>"
            ],
            "image/png": "[encoded data removed]"
          },
          "metadata": {}
        }
      ]
    },
    {
      "cell_type": "code",
      "source": [
        "print(\"Tabla Q entrenada:\")\n",
        "print(q_table)"
      ],
      "metadata": {
        "id": "a3cJI2MiuF24",
        "outputId": "b7e90b67-e2dd-421a-f018-ab4efaa4c001",
        "colab": {
          "base_uri": "https://localhost:8080/"
        }
      },
      "execution_count": null,
      "outputs": [
        {
          "output_type": "stream",
          "name": "stdout",
          "text": [
            "Tabla Q entrenada:\n",
            "[[8.08984219e-01 9.50990050e-01 6.13932138e-01 8.58534969e-01]\n",
            " [8.38285230e-01 0.00000000e+00 9.47939835e-07 6.50371656e-02]\n",
            " [5.73717122e-04 0.00000000e+00 0.00000000e+00 0.00000000e+00]\n",
            " [0.00000000e+00 0.00000000e+00 0.00000000e+00 0.00000000e+00]\n",
            " [9.12411733e-01 9.60596010e-01 0.00000000e+00 8.42677965e-01]\n",
            " [0.00000000e+00 0.00000000e+00 0.00000000e+00 0.00000000e+00]\n",
            " [0.00000000e+00 0.00000000e+00 0.00000000e+00 0.00000000e+00]\n",
            " [0.00000000e+00 0.00000000e+00 0.00000000e+00 0.00000000e+00]\n",
            " [9.31672310e-01 0.00000000e+00 9.70299000e-01 8.73105565e-01]\n",
            " [8.41316919e-01 9.80100000e-01 8.26079782e-01 0.00000000e+00]\n",
            " [1.79050618e-01 9.77031338e-01 0.00000000e+00 0.00000000e+00]\n",
            " [0.00000000e+00 0.00000000e+00 0.00000000e+00 0.00000000e+00]\n",
            " [0.00000000e+00 0.00000000e+00 0.00000000e+00 0.00000000e+00]\n",
            " [0.00000000e+00 9.17100849e-01 9.90000000e-01 8.81272574e-01]\n",
            " [8.65117328e-01 8.56171199e-01 1.00000000e+00 7.55523885e-01]\n",
            " [0.00000000e+00 0.00000000e+00 0.00000000e+00 0.00000000e+00]]\n"
          ]
        }
      ]
    }
  ]
}